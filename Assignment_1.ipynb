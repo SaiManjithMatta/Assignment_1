{
  "nbformat": 4,
  "nbformat_minor": 0,
  "metadata": {
    "colab": {
      "name": "Assignment_1.ipynb",
      "provenance": [],
      "collapsed_sections": [],
      "authorship_tag": "ABX9TyNF6uyt+BvVfDZ1NumCztQA",
      "include_colab_link": true
    },
    "kernelspec": {
      "name": "python3",
      "display_name": "Python 3"
    },
    "language_info": {
      "name": "python"
    }
  },
  "cells": [
    {
      "cell_type": "markdown",
      "metadata": {
        "id": "view-in-github",
        "colab_type": "text"
      },
      "source": [
        "<a href=\"https://colab.research.google.com/github/SaiManjithMatta/Assignment_1/blob/main/Assignment_1.ipynb\" target=\"_parent\"><img src=\"https://colab.research.google.com/assets/colab-badge.svg\" alt=\"Open In Colab\"/></a>"
      ]
    },
    {
      "cell_type": "code",
      "execution_count": 34,
      "metadata": {
        "id": "43tOY-O490yk",
        "colab": {
          "base_uri": "https://localhost:8080/"
        },
        "outputId": "cf2ff8eb-232d-43d9-a1b4-8c8614b3cb80"
      },
      "outputs": [
        {
          "output_type": "stream",
          "name": "stdout",
          "text": [
            "Sorted list: [19, 19, 20, 22, 24, 24, 24, 25, 25, 26]\n",
            "Min age = 19 Max age = 26\n",
            "After appending the elements:  [19, 19, 20, 22, 24, 24, 24, 25, 25, 26, 19, 26]\n",
            "Median : 24\n",
            "Average : 22.75\n",
            "Range : 7\n"
          ]
        }
      ],
      "source": [
        "# Question 1\n",
        "\n",
        "ages = [19, 22, 19, 24, 20, 25, 26, 24, 25, 24]\n",
        "sorted_ages_list = sorted(ages)\n",
        "\n",
        "#1 sorting the given list and storing into a new list and displaying minimum and max age\n",
        "print(\"Sorted list:\",sorted_ages_list)\n",
        "print(\"Min age =\",sorted_ages_list[0],\"Max age =\",sorted_ages_list[-1])\n",
        "min = sorted_ages_list[0]\n",
        "max = sorted_ages_list[-1]\n",
        "\n",
        "#2 adding min and max to the list\n",
        "sorted_ages_list.append(min)\n",
        "sorted_ages_list.append(max)\n",
        "\n",
        "length = len(sorted_ages_list)\n",
        "print(\"After appending the elements: \",sorted_ages_list)\n",
        "\n",
        "#Finding the median\n",
        "if length % 2 == 0 :\n",
        "    median_1 = sorted_ages_list[length//2]\n",
        "    median_2 = sorted_ages_list[length//2 - 1]\n",
        "    median = (median_1+median_2)//2\n",
        "    print(\"Median :\",median)\n",
        "else :\n",
        "  median=sorted_ages_list[length//2]\n",
        "  print(\"Median = \",median)\n",
        "\n",
        "#finding the sum\n",
        "length = len(sorted_ages_list)\n",
        "sum = 0\n",
        "for i in range (0,length,1):\n",
        "  sum = sum + sorted_ages_list[i]\n",
        "\n",
        "# finding the average\n",
        "average = sum/length\n",
        "print(\"Average :\",average)\n",
        "\n",
        "# finding the range\n",
        "Range = sorted_ages_list[-1] - sorted_ages_list[0]\n",
        "print(\"Range :\",Range)"
      ]
    },
    {
      "cell_type": "code",
      "source": [
        "# Question 2\n",
        "# empty dictionary called dog\n",
        "dog = {}\n",
        "#Adding the keys name, color, breed, legs, age to the dog dictionary\n",
        "dog = {\"name\":None, \"color\":None, \"breed\":None, \"legs\":None, \"age\":None}\n",
        "#Create a student dictionary and add first_name, last_name, gender, age, marital status,skills, country, city and address as keys for the dictionary\n",
        "student = {\n",
        "    \"first_name\":None,\n",
        "    \"last_name\":None, \n",
        "    \"gender\":None, \n",
        "    \"age\":None,\n",
        "    \"marital status\":None,\n",
        "    \"skills\":None, \n",
        "    \"country\":None, \n",
        "    \"city\":None, \n",
        "    \"address\":None\n",
        "}\n",
        "#length of the student dictionary\n",
        "print(\"\\nThe length of Student dictionary is : \",len(student))\n",
        "\n",
        "student = {\n",
        "    \"first_name\":'Sai Manjith',\n",
        "    \"last_name\":'Matta', \n",
        "    \"gender\":'Male', \n",
        "    \"age\":'22',\n",
        "    \"marital status\": 'Unmarried',\n",
        "    \"skills\":['Analytical writing','Critical Thinking','Thinking out of box'], \n",
        "    \"country\":'United states', \n",
        "    \"city\":'Overland park', \n",
        "    \"address\":'12557 Hardy Street'\n",
        "}\n",
        "print(\"\\nType :\",type(student['skills']))\n",
        "#value of skills and check the data type\n",
        "print(\"\\nThe skills are:\",student.get('skills'))\n",
        "#Modify the skills values by adding one or two skills\n",
        "student['skills'].append(\"Pressure handling\")\n",
        "print(\"\\nThe skills are adding an extra skill:\",student.get('skills'))\n",
        "#Get the dictionary keys as a list\n",
        "print(\"\\nThe keys in student dictionary :\",student.keys())\n",
        "#Get the dictionary values as a list\n",
        "print(\"\\nThe values in student dictionary :\",student.values())\n"
      ],
      "metadata": {
        "colab": {
          "base_uri": "https://localhost:8080/"
        },
        "id": "Vj1ikDU5UcEi",
        "outputId": "1c88fd96-faa9-45bf-e70a-f0ef9271eeac"
      },
      "execution_count": 33,
      "outputs": [
        {
          "output_type": "stream",
          "name": "stdout",
          "text": [
            "\n",
            "The length of Student dictionary is :  9\n",
            "\n",
            "Type : <class 'list'>\n",
            "\n",
            "The skills are: ['Analytical writing', 'Critical Thinking', 'Thinking out of box']\n",
            "\n",
            "The skills are adding an extra skill: ['Analytical writing', 'Critical Thinking', 'Thinking out of box', 'Pressure handling']\n",
            "\n",
            "The keys in student dictionary : dict_keys(['first_name', 'last_name', 'gender', 'age', 'marital status', 'skills', 'country', 'city', 'address'])\n",
            "\n",
            "The values in student dictionary : dict_values(['Sai Manjith', 'Matta', 'Male', '22', 'Unmarried', ['Analytical writing', 'Critical Thinking', 'Thinking out of box', 'Pressure handling'], 'United states', 'Overland park', '12557 Hardy Street'])\n"
          ]
        }
      ]
    },
    {
      "cell_type": "code",
      "source": [
        "# Question 3\n",
        "\n",
        "brothers = (\"Greesh\", \"Sree\", \"Madhav\")\n",
        "sisters = (\"Tejaswi\", \"Ramya\")\n",
        "# joining two tuples\n",
        "siblings = brothers+sisters\n",
        "print(\"\\nAfter adding brothers and sisters: \",siblings)\n",
        "print(\"\\nThe length of siblings :\",len(siblings))\n",
        "# adding up father_name and mother_name\n",
        "siblings = siblings + (\"Father_name\",\"Mother_name\")\n",
        "# assigning the updated to the family_members\n",
        "family_members = siblings\n",
        "print(\"\\nAfter adding father and mother name :\",family_members,\"\\n\")  "
      ],
      "metadata": {
        "colab": {
          "base_uri": "https://localhost:8080/"
        },
        "id": "EIPTjjNWcbRo",
        "outputId": "df22485e-7828-4003-fe6d-fdc62e74c295"
      },
      "execution_count": 16,
      "outputs": [
        {
          "output_type": "stream",
          "name": "stdout",
          "text": [
            "\n",
            "After adding brothers and sisters:  ('Greesh', 'Sree', 'Madhav', 'Tejaswi', 'Ramya')\n",
            "\n",
            "The length of siblings : 5\n",
            "\n",
            "After adding father and mother name : ('Greesh', 'Sree', 'Madhav', 'Tejaswi', 'Ramya', 'Father_name', 'Mother_name') \n",
            "\n"
          ]
        }
      ]
    },
    {
      "cell_type": "code",
      "source": [
        "# Question 4\n",
        "\n",
        "it_companies = {'Facebook', 'Google', 'Microsoft', 'Apple', 'IBM', 'Oracle', 'Amazon'}\n",
        "A = {19, 22, 24, 20, 25, 26}\n",
        "B = {19, 22, 20, 25, 26, 24, 28, 27}\n",
        "age = [22, 19, 24, 25, 26, 24, 25, 24]\n",
        "\n",
        "#1 length of the set it_companies\n",
        "length = len(it_companies)\n",
        "print(\"Length :\",length)\n",
        "print(\"\\nit_companies:\", it_companies)\n",
        "\n",
        "#2 Add 'Twitter' to it_companies\n",
        "it_companies.add('Twitter')\n",
        "print(\"\\nAter adding a company, it_companies:\",it_companies)\n",
        "\n",
        "#3 Insert multiple IT companies at once to the set it_companies\n",
        "new_companies = ['mindtree','accenture','sigma']\n",
        "it_companies.update(new_companies)\n",
        "print(\"\\nAter adding multiple companies, it_companies:\",it_companies)\n",
        "\n",
        "#4 Remove one of the companies from the set it_companies\n",
        "it_companies.remove('Apple')\n",
        "print(\"\\nAter deleting a company(i.e., Apple) it_companies: \",it_companies)\n",
        "\n",
        "#5 What is the difference between remove and discard\n",
        "'''\n",
        "The difference between remove and discard is if we want to delete an element in the set that is not\n",
        "present in the set by using remove then gives an error whereas discard\n",
        "doesn't show any error it just keeps the set un disturbed\n",
        "'''\n",
        "print(\"\\ndicard usage\",it_companies.discard('Tekaroon'))\n",
        "\n",
        "#6 Join A and B\n",
        "c=B.union(A)\n",
        "print(\"\\nAfter joining A and B, the resultant set:\",c)\n",
        "\n",
        "#7 Find A intersection B\n",
        "Common = A.intersection(B)\n",
        "print(\"\\nIntersection set :\",Common)\n",
        "\n",
        "#8 Is A subset of B\n",
        "print(\"\\nA is subset of B (True/False) :\",A.issubset(B))\n",
        "\n",
        "#9 Are A and B disjoint sets\n",
        "print(\"\\nAre A and B disjoint sets (True/False) :\",A.isdisjoint(B))\n",
        "\n",
        "#10 Join A with B and B with A\n",
        "     # joining A with B\n",
        "print(\"\\nJoining A with B:\",A.union(B))\n",
        "print(\"Joining B with A:\",B.union(A))\n",
        "\n",
        "#11 What is the symmetric difference between A and B\n",
        "print(\"\\nThe symmentric difference is : \",A.symmetric_difference(B))\n",
        "\n",
        "#12 Delete the sets completely\n",
        "del A\n",
        "del B\n",
        "\n",
        "\n",
        "#13 Convert the ages to a set and compare the length of the list and the set\n",
        "Set = set(age)\n",
        "print(\"\\nConverted to set\",Set)\n",
        "print(\"\\nThe length of list is :\",len(age),\"and set is :\",len(Set))"
      ],
      "metadata": {
        "colab": {
          "base_uri": "https://localhost:8080/"
        },
        "id": "ooi-0Udvd7uo",
        "outputId": "64afb42f-b324-44f1-83d9-e020c082e07c"
      },
      "execution_count": 36,
      "outputs": [
        {
          "output_type": "stream",
          "name": "stdout",
          "text": [
            "Length : 7\n",
            "\n",
            "it_companies: {'Google', 'Amazon', 'Oracle', 'IBM', 'Apple', 'Microsoft', 'Facebook'}\n",
            "\n",
            "Ater adding a company, it_companies: {'Google', 'Amazon', 'Twitter', 'Oracle', 'IBM', 'Apple', 'Microsoft', 'Facebook'}\n",
            "\n",
            "Ater adding multiple companies, it_companies: {'sigma', 'Google', 'Amazon', 'Twitter', 'Oracle', 'IBM', 'Apple', 'accenture', 'mindtree', 'Microsoft', 'Facebook'}\n",
            "\n",
            "Ater deleting a company(i.e., Apple) it_companies:  {'sigma', 'Google', 'Amazon', 'Twitter', 'Oracle', 'IBM', 'accenture', 'mindtree', 'Microsoft', 'Facebook'}\n",
            "\n",
            "dicard usage None\n",
            "\n",
            "After joining A and B, the resultant set: {19, 20, 22, 24, 25, 26, 27, 28}\n",
            "\n",
            "Intersection set : {19, 20, 22, 24, 25, 26}\n",
            "\n",
            "A is subset of B (True/False) : True\n",
            "\n",
            "Are A and B disjoint sets (True/False) : False\n",
            "\n",
            "Joining A with B: {19, 20, 22, 24, 25, 26, 27, 28}\n",
            "Joining B with A: {19, 20, 22, 24, 25, 26, 27, 28}\n",
            "\n",
            "The symmentric difference is :  {27, 28}\n",
            "\n",
            "Converted to set {19, 22, 24, 25, 26}\n",
            "\n",
            "The length of list is : 8 and set is : 5\n"
          ]
        }
      ]
    },
    {
      "cell_type": "code",
      "source": [
        "# Question 5\n",
        "\n",
        "import math\n",
        "\n",
        "constant = math.pi\n",
        "radius = 30\n",
        "\n",
        "#Area of a circle Finding\n",
        "_area_of_circle_ = constant * radius * radius\n",
        "print(\"Area :\",_area_of_circle_)\n",
        "\n",
        "#Circumference Finding\n",
        "_circum_of_circle_= 2 * constant * radius\n",
        "print(\"Circumference :\",_circum_of_circle_)\n",
        "\n",
        "#taking input (dynamically)\n",
        "new_radius = float(input(\"Enter the radius value: \"))\n",
        "Area = constant * new_radius * new_radius\n",
        "\n",
        "print(\"for given radius = \",new_radius,\"\\nArea :\",Area)"
      ],
      "metadata": {
        "colab": {
          "base_uri": "https://localhost:8080/"
        },
        "id": "Dr596Ob4jcqX",
        "outputId": "7cb5842d-10aa-4742-fb1a-a686fc9da12c"
      },
      "execution_count": 8,
      "outputs": [
        {
          "output_type": "stream",
          "name": "stdout",
          "text": [
            "Area : 2827.4333882308138\n",
            "Circumference : 188.49555921538757\n",
            "Enter the radius value: 10\n",
            "for given radius =  10.0 \n",
            "Area : 314.1592653589793\n"
          ]
        }
      ]
    },
    {
      "cell_type": "code",
      "source": [
        "# Question 6\n",
        "\n",
        "sentence = \"I am a teacher and I love to inspire and teach people\"\n",
        "\n",
        "#splitting the string for getting the individual elements\n",
        "Split = sentence.split(\" \")\n",
        "sp_set = set(Split)\n",
        "print(\"Set: \",sp_set)\n",
        "print(\"Number of unique words: \",len(sp_set))\n",
        "                          \n"
      ],
      "metadata": {
        "colab": {
          "base_uri": "https://localhost:8080/"
        },
        "id": "llXClpwwl3EG",
        "outputId": "e8d10c85-95e2-47d1-c007-60a046287917"
      },
      "execution_count": 30,
      "outputs": [
        {
          "output_type": "stream",
          "name": "stdout",
          "text": [
            "Set:  {'a', 'and', 'am', 'teacher', 'teach', 'inspire', 'I', 'people', 'love', 'to'}\n",
            "Number of unique words:  10\n"
          ]
        }
      ]
    },
    {
      "cell_type": "code",
      "source": [
        "# Question 7\n",
        "\n",
        "print(\"Name\\tAge\\tCountry\\tCity\\nAsabeneh\\t250\\tFinland\\tHelsinki\")"
      ],
      "metadata": {
        "colab": {
          "base_uri": "https://localhost:8080/"
        },
        "id": "EOulZlHso-Aw",
        "outputId": "75bbc176-a592-4c14-fc10-13398ab116bc"
      },
      "execution_count": null,
      "outputs": [
        {
          "output_type": "stream",
          "name": "stdout",
          "text": [
            "Name\tAge\tCountry\tCity\n",
            "Asabeneh\t250\tFinland\tHelsinki\n"
          ]
        }
      ]
    },
    {
      "cell_type": "code",
      "source": [
        "# Question 8\n",
        "\n",
        "radius = 10\n",
        "area = int(3.14 * radius ** 2)\n",
        "\n",
        "#sting formating\n",
        "formatted_area = 'The area of circle with radius {} is {} meters square.'.format(radius, area)  \n",
        "print(formatted_area)           "
      ],
      "metadata": {
        "colab": {
          "base_uri": "https://localhost:8080/"
        },
        "id": "OSGTNmQmrUz2",
        "outputId": "5ac57c4b-10ee-4eae-a618-75ddcd24a403"
      },
      "execution_count": null,
      "outputs": [
        {
          "output_type": "stream",
          "name": "stdout",
          "text": [
            "The area of a circle with radius 10 is 314 meters square.\n"
          ]
        }
      ]
    },
    {
      "cell_type": "code",
      "source": [
        "# Question 9\n",
        "\n",
        "# Dynamically taking the input\n",
        "n = int(input('Enter the length:'))\n",
        "\n",
        "# creating two lists one for lbs and other for kgs\n",
        "list = []\n",
        "con_list =[]\n",
        "for i in range (0,n,1) :\n",
        "    p =  float(input('Enter the value:'))\n",
        "    list.append(p)\n",
        "\n",
        "for i in range (0,n,1):\n",
        "      q = list[i] * 0.453592\n",
        "      con_list.append(round(q,2))\n",
        "print(\"\\nConerted to kgs: \",con_list)\n"
      ],
      "metadata": {
        "colab": {
          "base_uri": "https://localhost:8080/"
        },
        "id": "GvCHBFFeuf4J",
        "outputId": "55d8df46-da9d-4050-dbe2-6239960a7f15"
      },
      "execution_count": 35,
      "outputs": [
        {
          "output_type": "stream",
          "name": "stdout",
          "text": [
            "Enter the length:4\n",
            "Enter the value:150\n",
            "Enter the value:155\n",
            "Enter the value:145\n",
            "Enter the value:148\n",
            "\n",
            "Conerted to kgs:  [68.04, 70.31, 65.77, 67.13]\n"
          ]
        }
      ]
    }
  ]
}